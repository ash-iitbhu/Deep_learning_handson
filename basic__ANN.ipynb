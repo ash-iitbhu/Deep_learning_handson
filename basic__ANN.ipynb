{
  "nbformat": 4,
  "nbformat_minor": 0,
  "metadata": {
    "colab": {
      "provenance": [],
      "authorship_tag": "ABX9TyPILpcPnvD5F75KCQTWAQx4",
      "include_colab_link": true
    },
    "kernelspec": {
      "name": "python3",
      "display_name": "Python 3"
    },
    "language_info": {
      "name": "python"
    }
  },
  "cells": [
    {
      "cell_type": "markdown",
      "metadata": {
        "id": "view-in-github",
        "colab_type": "text"
      },
      "source": [
        "<a href=\"https://colab.research.google.com/github/ash-iitbhu/Deep_learning_handson/blob/main/basic__ANN.ipynb\" target=\"_parent\"><img src=\"https://colab.research.google.com/assets/colab-badge.svg\" alt=\"Open In Colab\"/></a>"
      ]
    },
    {
      "cell_type": "code",
      "execution_count": 1,
      "metadata": {
        "id": "0vt7RvCocbJN"
      },
      "outputs": [],
      "source": [
        "import numpy as np\n",
        "import pandas as pd\n",
        "import torch\n",
        "from sklearn.model_selection import train_test_split\n",
        "from sklearn.preprocessing import StandardScaler, LabelEncoder"
      ]
    },
    {
      "cell_type": "code",
      "source": [
        "df = pd.read_csv('https://raw.githubusercontent.com/gscdit/Breast-Cancer-Detection/refs/heads/master/data.csv')\n",
        "df.head()"
      ],
      "metadata": {
        "colab": {
          "base_uri": "https://localhost:8080/",
          "height": 273
        },
        "id": "mANgiMX3n9Kp",
        "outputId": "4169003b-a6f5-4cc1-e828-3e562b2ec853"
      },
      "execution_count": 2,
      "outputs": [
        {
          "output_type": "execute_result",
          "data": {
            "text/plain": [
              "         id diagnosis  radius_mean  texture_mean  perimeter_mean  area_mean  \\\n",
              "0    842302         M        17.99         10.38          122.80     1001.0   \n",
              "1    842517         M        20.57         17.77          132.90     1326.0   \n",
              "2  84300903         M        19.69         21.25          130.00     1203.0   \n",
              "3  84348301         M        11.42         20.38           77.58      386.1   \n",
              "4  84358402         M        20.29         14.34          135.10     1297.0   \n",
              "\n",
              "   smoothness_mean  compactness_mean  concavity_mean  concave points_mean  \\\n",
              "0          0.11840           0.27760          0.3001              0.14710   \n",
              "1          0.08474           0.07864          0.0869              0.07017   \n",
              "2          0.10960           0.15990          0.1974              0.12790   \n",
              "3          0.14250           0.28390          0.2414              0.10520   \n",
              "4          0.10030           0.13280          0.1980              0.10430   \n",
              "\n",
              "   ...  texture_worst  perimeter_worst  area_worst  smoothness_worst  \\\n",
              "0  ...          17.33           184.60      2019.0            0.1622   \n",
              "1  ...          23.41           158.80      1956.0            0.1238   \n",
              "2  ...          25.53           152.50      1709.0            0.1444   \n",
              "3  ...          26.50            98.87       567.7            0.2098   \n",
              "4  ...          16.67           152.20      1575.0            0.1374   \n",
              "\n",
              "   compactness_worst  concavity_worst  concave points_worst  symmetry_worst  \\\n",
              "0             0.6656           0.7119                0.2654          0.4601   \n",
              "1             0.1866           0.2416                0.1860          0.2750   \n",
              "2             0.4245           0.4504                0.2430          0.3613   \n",
              "3             0.8663           0.6869                0.2575          0.6638   \n",
              "4             0.2050           0.4000                0.1625          0.2364   \n",
              "\n",
              "   fractal_dimension_worst  Unnamed: 32  \n",
              "0                  0.11890          NaN  \n",
              "1                  0.08902          NaN  \n",
              "2                  0.08758          NaN  \n",
              "3                  0.17300          NaN  \n",
              "4                  0.07678          NaN  \n",
              "\n",
              "[5 rows x 33 columns]"
            ],
            "text/html": [
              "\n",
              "  <div id=\"df-d9d1a7c1-9ac8-4a68-acf2-62f84da0f910\" class=\"colab-df-container\">\n",
              "    <div>\n",
              "<style scoped>\n",
              "    .dataframe tbody tr th:only-of-type {\n",
              "        vertical-align: middle;\n",
              "    }\n",
              "\n",
              "    .dataframe tbody tr th {\n",
              "        vertical-align: top;\n",
              "    }\n",
              "\n",
              "    .dataframe thead th {\n",
              "        text-align: right;\n",
              "    }\n",
              "</style>\n",
              "<table border=\"1\" class=\"dataframe\">\n",
              "  <thead>\n",
              "    <tr style=\"text-align: right;\">\n",
              "      <th></th>\n",
              "      <th>id</th>\n",
              "      <th>diagnosis</th>\n",
              "      <th>radius_mean</th>\n",
              "      <th>texture_mean</th>\n",
              "      <th>perimeter_mean</th>\n",
              "      <th>area_mean</th>\n",
              "      <th>smoothness_mean</th>\n",
              "      <th>compactness_mean</th>\n",
              "      <th>concavity_mean</th>\n",
              "      <th>concave points_mean</th>\n",
              "      <th>...</th>\n",
              "      <th>texture_worst</th>\n",
              "      <th>perimeter_worst</th>\n",
              "      <th>area_worst</th>\n",
              "      <th>smoothness_worst</th>\n",
              "      <th>compactness_worst</th>\n",
              "      <th>concavity_worst</th>\n",
              "      <th>concave points_worst</th>\n",
              "      <th>symmetry_worst</th>\n",
              "      <th>fractal_dimension_worst</th>\n",
              "      <th>Unnamed: 32</th>\n",
              "    </tr>\n",
              "  </thead>\n",
              "  <tbody>\n",
              "    <tr>\n",
              "      <th>0</th>\n",
              "      <td>842302</td>\n",
              "      <td>M</td>\n",
              "      <td>17.99</td>\n",
              "      <td>10.38</td>\n",
              "      <td>122.80</td>\n",
              "      <td>1001.0</td>\n",
              "      <td>0.11840</td>\n",
              "      <td>0.27760</td>\n",
              "      <td>0.3001</td>\n",
              "      <td>0.14710</td>\n",
              "      <td>...</td>\n",
              "      <td>17.33</td>\n",
              "      <td>184.60</td>\n",
              "      <td>2019.0</td>\n",
              "      <td>0.1622</td>\n",
              "      <td>0.6656</td>\n",
              "      <td>0.7119</td>\n",
              "      <td>0.2654</td>\n",
              "      <td>0.4601</td>\n",
              "      <td>0.11890</td>\n",
              "      <td>NaN</td>\n",
              "    </tr>\n",
              "    <tr>\n",
              "      <th>1</th>\n",
              "      <td>842517</td>\n",
              "      <td>M</td>\n",
              "      <td>20.57</td>\n",
              "      <td>17.77</td>\n",
              "      <td>132.90</td>\n",
              "      <td>1326.0</td>\n",
              "      <td>0.08474</td>\n",
              "      <td>0.07864</td>\n",
              "      <td>0.0869</td>\n",
              "      <td>0.07017</td>\n",
              "      <td>...</td>\n",
              "      <td>23.41</td>\n",
              "      <td>158.80</td>\n",
              "      <td>1956.0</td>\n",
              "      <td>0.1238</td>\n",
              "      <td>0.1866</td>\n",
              "      <td>0.2416</td>\n",
              "      <td>0.1860</td>\n",
              "      <td>0.2750</td>\n",
              "      <td>0.08902</td>\n",
              "      <td>NaN</td>\n",
              "    </tr>\n",
              "    <tr>\n",
              "      <th>2</th>\n",
              "      <td>84300903</td>\n",
              "      <td>M</td>\n",
              "      <td>19.69</td>\n",
              "      <td>21.25</td>\n",
              "      <td>130.00</td>\n",
              "      <td>1203.0</td>\n",
              "      <td>0.10960</td>\n",
              "      <td>0.15990</td>\n",
              "      <td>0.1974</td>\n",
              "      <td>0.12790</td>\n",
              "      <td>...</td>\n",
              "      <td>25.53</td>\n",
              "      <td>152.50</td>\n",
              "      <td>1709.0</td>\n",
              "      <td>0.1444</td>\n",
              "      <td>0.4245</td>\n",
              "      <td>0.4504</td>\n",
              "      <td>0.2430</td>\n",
              "      <td>0.3613</td>\n",
              "      <td>0.08758</td>\n",
              "      <td>NaN</td>\n",
              "    </tr>\n",
              "    <tr>\n",
              "      <th>3</th>\n",
              "      <td>84348301</td>\n",
              "      <td>M</td>\n",
              "      <td>11.42</td>\n",
              "      <td>20.38</td>\n",
              "      <td>77.58</td>\n",
              "      <td>386.1</td>\n",
              "      <td>0.14250</td>\n",
              "      <td>0.28390</td>\n",
              "      <td>0.2414</td>\n",
              "      <td>0.10520</td>\n",
              "      <td>...</td>\n",
              "      <td>26.50</td>\n",
              "      <td>98.87</td>\n",
              "      <td>567.7</td>\n",
              "      <td>0.2098</td>\n",
              "      <td>0.8663</td>\n",
              "      <td>0.6869</td>\n",
              "      <td>0.2575</td>\n",
              "      <td>0.6638</td>\n",
              "      <td>0.17300</td>\n",
              "      <td>NaN</td>\n",
              "    </tr>\n",
              "    <tr>\n",
              "      <th>4</th>\n",
              "      <td>84358402</td>\n",
              "      <td>M</td>\n",
              "      <td>20.29</td>\n",
              "      <td>14.34</td>\n",
              "      <td>135.10</td>\n",
              "      <td>1297.0</td>\n",
              "      <td>0.10030</td>\n",
              "      <td>0.13280</td>\n",
              "      <td>0.1980</td>\n",
              "      <td>0.10430</td>\n",
              "      <td>...</td>\n",
              "      <td>16.67</td>\n",
              "      <td>152.20</td>\n",
              "      <td>1575.0</td>\n",
              "      <td>0.1374</td>\n",
              "      <td>0.2050</td>\n",
              "      <td>0.4000</td>\n",
              "      <td>0.1625</td>\n",
              "      <td>0.2364</td>\n",
              "      <td>0.07678</td>\n",
              "      <td>NaN</td>\n",
              "    </tr>\n",
              "  </tbody>\n",
              "</table>\n",
              "<p>5 rows × 33 columns</p>\n",
              "</div>\n",
              "    <div class=\"colab-df-buttons\">\n",
              "\n",
              "  <div class=\"colab-df-container\">\n",
              "    <button class=\"colab-df-convert\" onclick=\"convertToInteractive('df-d9d1a7c1-9ac8-4a68-acf2-62f84da0f910')\"\n",
              "            title=\"Convert this dataframe to an interactive table.\"\n",
              "            style=\"display:none;\">\n",
              "\n",
              "  <svg xmlns=\"http://www.w3.org/2000/svg\" height=\"24px\" viewBox=\"0 -960 960 960\">\n",
              "    <path d=\"M120-120v-720h720v720H120Zm60-500h600v-160H180v160Zm220 220h160v-160H400v160Zm0 220h160v-160H400v160ZM180-400h160v-160H180v160Zm440 0h160v-160H620v160ZM180-180h160v-160H180v160Zm440 0h160v-160H620v160Z\"/>\n",
              "  </svg>\n",
              "    </button>\n",
              "\n",
              "  <style>\n",
              "    .colab-df-container {\n",
              "      display:flex;\n",
              "      gap: 12px;\n",
              "    }\n",
              "\n",
              "    .colab-df-convert {\n",
              "      background-color: #E8F0FE;\n",
              "      border: none;\n",
              "      border-radius: 50%;\n",
              "      cursor: pointer;\n",
              "      display: none;\n",
              "      fill: #1967D2;\n",
              "      height: 32px;\n",
              "      padding: 0 0 0 0;\n",
              "      width: 32px;\n",
              "    }\n",
              "\n",
              "    .colab-df-convert:hover {\n",
              "      background-color: #E2EBFA;\n",
              "      box-shadow: 0px 1px 2px rgba(60, 64, 67, 0.3), 0px 1px 3px 1px rgba(60, 64, 67, 0.15);\n",
              "      fill: #174EA6;\n",
              "    }\n",
              "\n",
              "    .colab-df-buttons div {\n",
              "      margin-bottom: 4px;\n",
              "    }\n",
              "\n",
              "    [theme=dark] .colab-df-convert {\n",
              "      background-color: #3B4455;\n",
              "      fill: #D2E3FC;\n",
              "    }\n",
              "\n",
              "    [theme=dark] .colab-df-convert:hover {\n",
              "      background-color: #434B5C;\n",
              "      box-shadow: 0px 1px 3px 1px rgba(0, 0, 0, 0.15);\n",
              "      filter: drop-shadow(0px 1px 2px rgba(0, 0, 0, 0.3));\n",
              "      fill: #FFFFFF;\n",
              "    }\n",
              "  </style>\n",
              "\n",
              "    <script>\n",
              "      const buttonEl =\n",
              "        document.querySelector('#df-d9d1a7c1-9ac8-4a68-acf2-62f84da0f910 button.colab-df-convert');\n",
              "      buttonEl.style.display =\n",
              "        google.colab.kernel.accessAllowed ? 'block' : 'none';\n",
              "\n",
              "      async function convertToInteractive(key) {\n",
              "        const element = document.querySelector('#df-d9d1a7c1-9ac8-4a68-acf2-62f84da0f910');\n",
              "        const dataTable =\n",
              "          await google.colab.kernel.invokeFunction('convertToInteractive',\n",
              "                                                    [key], {});\n",
              "        if (!dataTable) return;\n",
              "\n",
              "        const docLinkHtml = 'Like what you see? Visit the ' +\n",
              "          '<a target=\"_blank\" href=https://colab.research.google.com/notebooks/data_table.ipynb>data table notebook</a>'\n",
              "          + ' to learn more about interactive tables.';\n",
              "        element.innerHTML = '';\n",
              "        dataTable['output_type'] = 'display_data';\n",
              "        await google.colab.output.renderOutput(dataTable, element);\n",
              "        const docLink = document.createElement('div');\n",
              "        docLink.innerHTML = docLinkHtml;\n",
              "        element.appendChild(docLink);\n",
              "      }\n",
              "    </script>\n",
              "  </div>\n",
              "\n",
              "\n",
              "    <div id=\"df-6aefd806-70c4-44b0-a9f5-7a5c6c77e5d6\">\n",
              "      <button class=\"colab-df-quickchart\" onclick=\"quickchart('df-6aefd806-70c4-44b0-a9f5-7a5c6c77e5d6')\"\n",
              "                title=\"Suggest charts\"\n",
              "                style=\"display:none;\">\n",
              "\n",
              "<svg xmlns=\"http://www.w3.org/2000/svg\" height=\"24px\"viewBox=\"0 0 24 24\"\n",
              "     width=\"24px\">\n",
              "    <g>\n",
              "        <path d=\"M19 3H5c-1.1 0-2 .9-2 2v14c0 1.1.9 2 2 2h14c1.1 0 2-.9 2-2V5c0-1.1-.9-2-2-2zM9 17H7v-7h2v7zm4 0h-2V7h2v10zm4 0h-2v-4h2v4z\"/>\n",
              "    </g>\n",
              "</svg>\n",
              "      </button>\n",
              "\n",
              "<style>\n",
              "  .colab-df-quickchart {\n",
              "      --bg-color: #E8F0FE;\n",
              "      --fill-color: #1967D2;\n",
              "      --hover-bg-color: #E2EBFA;\n",
              "      --hover-fill-color: #174EA6;\n",
              "      --disabled-fill-color: #AAA;\n",
              "      --disabled-bg-color: #DDD;\n",
              "  }\n",
              "\n",
              "  [theme=dark] .colab-df-quickchart {\n",
              "      --bg-color: #3B4455;\n",
              "      --fill-color: #D2E3FC;\n",
              "      --hover-bg-color: #434B5C;\n",
              "      --hover-fill-color: #FFFFFF;\n",
              "      --disabled-bg-color: #3B4455;\n",
              "      --disabled-fill-color: #666;\n",
              "  }\n",
              "\n",
              "  .colab-df-quickchart {\n",
              "    background-color: var(--bg-color);\n",
              "    border: none;\n",
              "    border-radius: 50%;\n",
              "    cursor: pointer;\n",
              "    display: none;\n",
              "    fill: var(--fill-color);\n",
              "    height: 32px;\n",
              "    padding: 0;\n",
              "    width: 32px;\n",
              "  }\n",
              "\n",
              "  .colab-df-quickchart:hover {\n",
              "    background-color: var(--hover-bg-color);\n",
              "    box-shadow: 0 1px 2px rgba(60, 64, 67, 0.3), 0 1px 3px 1px rgba(60, 64, 67, 0.15);\n",
              "    fill: var(--button-hover-fill-color);\n",
              "  }\n",
              "\n",
              "  .colab-df-quickchart-complete:disabled,\n",
              "  .colab-df-quickchart-complete:disabled:hover {\n",
              "    background-color: var(--disabled-bg-color);\n",
              "    fill: var(--disabled-fill-color);\n",
              "    box-shadow: none;\n",
              "  }\n",
              "\n",
              "  .colab-df-spinner {\n",
              "    border: 2px solid var(--fill-color);\n",
              "    border-color: transparent;\n",
              "    border-bottom-color: var(--fill-color);\n",
              "    animation:\n",
              "      spin 1s steps(1) infinite;\n",
              "  }\n",
              "\n",
              "  @keyframes spin {\n",
              "    0% {\n",
              "      border-color: transparent;\n",
              "      border-bottom-color: var(--fill-color);\n",
              "      border-left-color: var(--fill-color);\n",
              "    }\n",
              "    20% {\n",
              "      border-color: transparent;\n",
              "      border-left-color: var(--fill-color);\n",
              "      border-top-color: var(--fill-color);\n",
              "    }\n",
              "    30% {\n",
              "      border-color: transparent;\n",
              "      border-left-color: var(--fill-color);\n",
              "      border-top-color: var(--fill-color);\n",
              "      border-right-color: var(--fill-color);\n",
              "    }\n",
              "    40% {\n",
              "      border-color: transparent;\n",
              "      border-right-color: var(--fill-color);\n",
              "      border-top-color: var(--fill-color);\n",
              "    }\n",
              "    60% {\n",
              "      border-color: transparent;\n",
              "      border-right-color: var(--fill-color);\n",
              "    }\n",
              "    80% {\n",
              "      border-color: transparent;\n",
              "      border-right-color: var(--fill-color);\n",
              "      border-bottom-color: var(--fill-color);\n",
              "    }\n",
              "    90% {\n",
              "      border-color: transparent;\n",
              "      border-bottom-color: var(--fill-color);\n",
              "    }\n",
              "  }\n",
              "</style>\n",
              "\n",
              "      <script>\n",
              "        async function quickchart(key) {\n",
              "          const quickchartButtonEl =\n",
              "            document.querySelector('#' + key + ' button');\n",
              "          quickchartButtonEl.disabled = true;  // To prevent multiple clicks.\n",
              "          quickchartButtonEl.classList.add('colab-df-spinner');\n",
              "          try {\n",
              "            const charts = await google.colab.kernel.invokeFunction(\n",
              "                'suggestCharts', [key], {});\n",
              "          } catch (error) {\n",
              "            console.error('Error during call to suggestCharts:', error);\n",
              "          }\n",
              "          quickchartButtonEl.classList.remove('colab-df-spinner');\n",
              "          quickchartButtonEl.classList.add('colab-df-quickchart-complete');\n",
              "        }\n",
              "        (() => {\n",
              "          let quickchartButtonEl =\n",
              "            document.querySelector('#df-6aefd806-70c4-44b0-a9f5-7a5c6c77e5d6 button');\n",
              "          quickchartButtonEl.style.display =\n",
              "            google.colab.kernel.accessAllowed ? 'block' : 'none';\n",
              "        })();\n",
              "      </script>\n",
              "    </div>\n",
              "\n",
              "    </div>\n",
              "  </div>\n"
            ],
            "application/vnd.google.colaboratory.intrinsic+json": {
              "type": "dataframe",
              "variable_name": "df"
            }
          },
          "metadata": {},
          "execution_count": 2
        }
      ]
    },
    {
      "cell_type": "code",
      "source": [
        "df.drop(columns=['id', 'Unnamed: 32'], inplace= True)"
      ],
      "metadata": {
        "id": "eiKB-xbin-71"
      },
      "execution_count": 3,
      "outputs": []
    },
    {
      "cell_type": "code",
      "source": [
        "df.shape"
      ],
      "metadata": {
        "colab": {
          "base_uri": "https://localhost:8080/"
        },
        "id": "5rBadYBGoIi-",
        "outputId": "84ce3f3f-950d-4c7b-99c9-6d1eb512b384"
      },
      "execution_count": 4,
      "outputs": [
        {
          "output_type": "execute_result",
          "data": {
            "text/plain": [
              "(569, 31)"
            ]
          },
          "metadata": {},
          "execution_count": 4
        }
      ]
    },
    {
      "cell_type": "code",
      "source": [
        "X_train, X_test, y_train, y_test = train_test_split(df.iloc[:, 1:], df.iloc[:, 0], test_size=0.2)"
      ],
      "metadata": {
        "id": "kGRKQC8-oJCp"
      },
      "execution_count": 5,
      "outputs": []
    },
    {
      "cell_type": "code",
      "source": [
        "scaler = StandardScaler()\n",
        "X_train = scaler.fit_transform(X_train)\n",
        "X_test = scaler.transform(X_test)"
      ],
      "metadata": {
        "id": "0K8fnrPtoQgE"
      },
      "execution_count": 6,
      "outputs": []
    },
    {
      "cell_type": "code",
      "source": [
        "encoder = LabelEncoder()\n",
        "y_train = encoder.fit_transform(y_train)\n",
        "y_test = encoder.transform(y_test)"
      ],
      "metadata": {
        "id": "44JxydEsoTXa"
      },
      "execution_count": 7,
      "outputs": []
    },
    {
      "cell_type": "code",
      "source": [
        "X_train.shape, X_test.shape"
      ],
      "metadata": {
        "colab": {
          "base_uri": "https://localhost:8080/"
        },
        "id": "CupIVAM2oVx7",
        "outputId": "17c14105-03de-4470-95b8-05fea83dbc8d"
      },
      "execution_count": 9,
      "outputs": [
        {
          "output_type": "execute_result",
          "data": {
            "text/plain": [
              "((455, 30), (114, 30))"
            ]
          },
          "metadata": {},
          "execution_count": 9
        }
      ]
    },
    {
      "cell_type": "code",
      "source": [
        "y_train.shape, y_test.shape"
      ],
      "metadata": {
        "colab": {
          "base_uri": "https://localhost:8080/"
        },
        "id": "Q9uY0ZgkoW8C",
        "outputId": "508918ee-9637-4031-8e53-26a09383666b"
      },
      "execution_count": 11,
      "outputs": [
        {
          "output_type": "execute_result",
          "data": {
            "text/plain": [
              "((455,), (114,))"
            ]
          },
          "metadata": {},
          "execution_count": 11
        }
      ]
    },
    {
      "cell_type": "code",
      "source": [
        "X_train_tensor = torch.from_numpy(X_train).float()\n",
        "X_test_tensor = torch.from_numpy(X_test).float()\n",
        "y_train_tensor = torch.from_numpy(y_train).float()\n",
        "y_test_tensor = torch.from_numpy(y_test).float()"
      ],
      "metadata": {
        "id": "riCMoDBNoaWC"
      },
      "execution_count": 73,
      "outputs": []
    },
    {
      "cell_type": "markdown",
      "source": [
        "# Define the model"
      ],
      "metadata": {
        "id": "HXRm_apjojXl"
      }
    },
    {
      "cell_type": "code",
      "source": [
        "class MySimpleNN:\n",
        "  def __init__(self, X):\n",
        "    self.input_size = X.shape[1]\n",
        "    self.weights = torch.rand(self.input_size, 1,dtype=torch.float64, requires_grad=True)\n",
        "    self.bias = torch.zeros(1, dtype=torch.float64, requires_grad=True)\n",
        "\n",
        "  def forward(self,X):\n",
        "    y_pred = torch.sigmoid(torch.matmul(X, self.weights) + self.bias)\n",
        "    return y_pred\n",
        "\n",
        "  def loss(self, y_pred, y):\n",
        "    epsilon = 1e-8\n",
        "    y_pred = torch.clamp(y_pred, epsilon, 1-epsilon)\n",
        "    loss = -1*(y * torch.log(y_pred) + (1-y) * torch.log(1-y_pred)).mean()\n",
        "    return loss"
      ],
      "metadata": {
        "id": "rrRqEA5Eoln0"
      },
      "execution_count": 43,
      "outputs": []
    },
    {
      "cell_type": "code",
      "source": [
        "learning_rate = 0.1\n",
        "epochs = 30"
      ],
      "metadata": {
        "id": "PxdlQxIorA4u"
      },
      "execution_count": 59,
      "outputs": []
    },
    {
      "cell_type": "code",
      "source": [
        "my_nn = MySimpleNN(X_train_tensor)"
      ],
      "metadata": {
        "id": "QxKcwkt-rEYg"
      },
      "execution_count": 60,
      "outputs": []
    },
    {
      "cell_type": "code",
      "source": [
        "for epoch in range(epochs):\n",
        "  y_pred = my_nn.forward(X_train_tensor)\n",
        "  loss = my_nn.loss(y_pred, y_train_tensor)\n",
        "  loss.backward()\n",
        "  with torch.no_grad():\n",
        "    my_nn.weights -= learning_rate * my_nn.weights.grad\n",
        "    my_nn.bias -= learning_rate * my_nn.bias.grad\n",
        "\n",
        "  my_nn.weights.grad.zero_()\n",
        "  my_nn.bias.grad.zero_()\n",
        "  print(f'Epoch: {epoch + 1}, Loss: {loss.item()}')"
      ],
      "metadata": {
        "colab": {
          "base_uri": "https://localhost:8080/"
        },
        "id": "C2bBq6njrIq2",
        "outputId": "3bfcdfee-9c7f-452a-ef6e-2e5f7df76c33"
      },
      "execution_count": 61,
      "outputs": [
        {
          "output_type": "stream",
          "name": "stdout",
          "text": [
            "Epoch: 1, Loss: 3.4812217487988404\n",
            "Epoch: 2, Loss: 3.3370947171340153\n",
            "Epoch: 3, Loss: 3.190651236644399\n",
            "Epoch: 4, Loss: 3.0436601784547967\n",
            "Epoch: 5, Loss: 2.8959002449198703\n",
            "Epoch: 6, Loss: 2.742967823274361\n",
            "Epoch: 7, Loss: 2.590955570519658\n",
            "Epoch: 8, Loss: 2.438797683159004\n",
            "Epoch: 9, Loss: 2.2876038338395728\n",
            "Epoch: 10, Loss: 2.1363623436619217\n",
            "Epoch: 11, Loss: 1.9889771264996186\n",
            "Epoch: 12, Loss: 1.844819435760949\n",
            "Epoch: 13, Loss: 1.7057138452141358\n",
            "Epoch: 14, Loss: 1.5740982696101218\n",
            "Epoch: 15, Loss: 1.4511535918830214\n",
            "Epoch: 16, Loss: 1.3403715148250197\n",
            "Epoch: 17, Loss: 1.2425337280305966\n",
            "Epoch: 18, Loss: 1.1579488345556042\n",
            "Epoch: 19, Loss: 1.0863755975704912\n",
            "Epoch: 20, Loss: 1.027025220041147\n",
            "Epoch: 21, Loss: 0.9786284922336489\n",
            "Epoch: 22, Loss: 0.9395773105567414\n",
            "Epoch: 23, Loss: 0.9081408701808265\n",
            "Epoch: 24, Loss: 0.8826887372668826\n",
            "Epoch: 25, Loss: 0.8618361216075017\n",
            "Epoch: 26, Loss: 0.8444888461488991\n",
            "Epoch: 27, Loss: 0.829820587115123\n",
            "Epoch: 28, Loss: 0.8172227151955742\n",
            "Epoch: 29, Loss: 0.8062514936418017\n",
            "Epoch: 30, Loss: 0.7965829146311152\n"
          ]
        }
      ]
    },
    {
      "cell_type": "code",
      "source": [
        "with torch.no_grad():\n",
        "  y_pred_test = my_nn.forward(X_test_tensor)\n",
        "  y_pred_test = (y_pred_test > 0.8).float()\n",
        "  accuracy = (y_pred_test == y_test_tensor).float().mean()"
      ],
      "metadata": {
        "id": "gfDTYhbArcuk"
      },
      "execution_count": 64,
      "outputs": []
    },
    {
      "cell_type": "code",
      "source": [
        "print(accuracy)"
      ],
      "metadata": {
        "colab": {
          "base_uri": "https://localhost:8080/"
        },
        "id": "2svgyFUOtnUj",
        "outputId": "f31a3234-0e03-49ca-ab99-b69ca4960f6e"
      },
      "execution_count": 65,
      "outputs": [
        {
          "output_type": "stream",
          "name": "stdout",
          "text": [
            "tensor(0.6056)\n"
          ]
        }
      ]
    },
    {
      "cell_type": "markdown",
      "source": [
        "# **Using Pytorch.NN**"
      ],
      "metadata": {
        "id": "64LkS4nNuZv7"
      }
    },
    {
      "cell_type": "code",
      "source": [
        "import torch\n",
        "import torch.nn as nn"
      ],
      "metadata": {
        "id": "zzEEHacwuckL"
      },
      "execution_count": 113,
      "outputs": []
    },
    {
      "cell_type": "code",
      "source": [
        "class Model(nn.Module):\n",
        "\n",
        "  def __init__(self, feature_size):\n",
        "    super().__init__()\n",
        "    self.network = nn.Sequential(nn.Linear(feature_size,15),\n",
        "                                 nn.ReLU(),\n",
        "                                 nn.Linear(15,10),\n",
        "                                 nn.ReLU(),\n",
        "                                 nn.Linear(10,1),\n",
        "                                 nn.Sigmoid())\n",
        "\n",
        "  def forward(self,features):\n",
        "    return self.network(features)"
      ],
      "metadata": {
        "id": "xXmPI6ERxAM_"
      },
      "execution_count": 125,
      "outputs": []
    },
    {
      "cell_type": "code",
      "source": [
        "model = Model(X_train_tensor.shape[1])"
      ],
      "metadata": {
        "id": "zJ4Xf6tmynoN"
      },
      "execution_count": 126,
      "outputs": []
    },
    {
      "cell_type": "code",
      "source": [
        "model.float()"
      ],
      "metadata": {
        "colab": {
          "base_uri": "https://localhost:8080/"
        },
        "id": "wdmPohq72K2B",
        "outputId": "20d0a27e-db35-43ea-9d4e-02e0c6b3450c"
      },
      "execution_count": 127,
      "outputs": [
        {
          "output_type": "execute_result",
          "data": {
            "text/plain": [
              "Model(\n",
              "  (network): Sequential(\n",
              "    (0): Linear(in_features=30, out_features=15, bias=True)\n",
              "    (1): ReLU()\n",
              "    (2): Linear(in_features=15, out_features=10, bias=True)\n",
              "    (3): ReLU()\n",
              "    (4): Linear(in_features=10, out_features=1, bias=True)\n",
              "    (5): Sigmoid()\n",
              "  )\n",
              ")"
            ]
          },
          "metadata": {},
          "execution_count": 127
        }
      ]
    },
    {
      "cell_type": "code",
      "source": [
        "from torchinfo import summary"
      ],
      "metadata": {
        "id": "OjdogY6O0KtS"
      },
      "execution_count": 128,
      "outputs": []
    },
    {
      "cell_type": "code",
      "source": [
        "summary(model,input_size = (10,30))"
      ],
      "metadata": {
        "colab": {
          "base_uri": "https://localhost:8080/"
        },
        "id": "cWMuO9dx0Ttk",
        "outputId": "e5d20451-c7df-4075-a4fd-31683f61c96c"
      },
      "execution_count": 129,
      "outputs": [
        {
          "output_type": "execute_result",
          "data": {
            "text/plain": [
              "==========================================================================================\n",
              "Layer (type:depth-idx)                   Output Shape              Param #\n",
              "==========================================================================================\n",
              "Model                                    [10, 1]                   --\n",
              "├─Sequential: 1-1                        [10, 1]                   --\n",
              "│    └─Linear: 2-1                       [10, 15]                  465\n",
              "│    └─ReLU: 2-2                         [10, 15]                  --\n",
              "│    └─Linear: 2-3                       [10, 10]                  160\n",
              "│    └─ReLU: 2-4                         [10, 10]                  --\n",
              "│    └─Linear: 2-5                       [10, 1]                   11\n",
              "│    └─Sigmoid: 2-6                      [10, 1]                   --\n",
              "==========================================================================================\n",
              "Total params: 636\n",
              "Trainable params: 636\n",
              "Non-trainable params: 0\n",
              "Total mult-adds (Units.MEGABYTES): 0.01\n",
              "==========================================================================================\n",
              "Input size (MB): 0.00\n",
              "Forward/backward pass size (MB): 0.00\n",
              "Params size (MB): 0.00\n",
              "Estimated Total Size (MB): 0.01\n",
              "=========================================================================================="
            ]
          },
          "metadata": {},
          "execution_count": 129
        }
      ]
    },
    {
      "cell_type": "code",
      "source": [
        "learning_rate = 0.1\n",
        "epochs = 50\n",
        "loss_function = nn.BCELoss()\n",
        "optimizer = torch.optim.SGD(model.parameters(), lr=learning_rate)"
      ],
      "metadata": {
        "id": "vwScKdcQ1TcD"
      },
      "execution_count": 130,
      "outputs": []
    },
    {
      "cell_type": "code",
      "source": [
        "for epoch in range(epochs):\n",
        "\n",
        "  # forward pass\n",
        "  y_pred = model(X_train_tensor)\n",
        "\n",
        "  # loss calculate\n",
        "  loss = loss_function(y_pred, y_train_tensor.view(-1,1))\n",
        "\n",
        "  # clear gradients\n",
        "  optimizer.zero_grad()\n",
        "\n",
        "  # backward pass\n",
        "  loss.backward()\n",
        "\n",
        "  # parameters update\n",
        "  optimizer.step()\n",
        "\n",
        "  # print loss in each epoch\n",
        "  print(f'Epoch: {epoch + 1}, Loss: {loss.item()}')"
      ],
      "metadata": {
        "colab": {
          "base_uri": "https://localhost:8080/"
        },
        "id": "eeYdTmhcy4q0",
        "outputId": "7d5836e7-c83c-4aad-dbfd-cd8e98838354"
      },
      "execution_count": 131,
      "outputs": [
        {
          "output_type": "stream",
          "name": "stdout",
          "text": [
            "Epoch: 1, Loss: 0.7412577271461487\n",
            "Epoch: 2, Loss: 0.7237693667411804\n",
            "Epoch: 3, Loss: 0.7084782123565674\n",
            "Epoch: 4, Loss: 0.6948761343955994\n",
            "Epoch: 5, Loss: 0.6824695467948914\n",
            "Epoch: 6, Loss: 0.6709633469581604\n",
            "Epoch: 7, Loss: 0.6601080298423767\n",
            "Epoch: 8, Loss: 0.6497554779052734\n",
            "Epoch: 9, Loss: 0.6397320628166199\n",
            "Epoch: 10, Loss: 0.6299309134483337\n",
            "Epoch: 11, Loss: 0.6202223300933838\n",
            "Epoch: 12, Loss: 0.610521137714386\n",
            "Epoch: 13, Loss: 0.6007887721061707\n",
            "Epoch: 14, Loss: 0.5909807682037354\n",
            "Epoch: 15, Loss: 0.5810940861701965\n",
            "Epoch: 16, Loss: 0.5711360573768616\n",
            "Epoch: 17, Loss: 0.5611012578010559\n",
            "Epoch: 18, Loss: 0.5509849190711975\n",
            "Epoch: 19, Loss: 0.5408262610435486\n",
            "Epoch: 20, Loss: 0.5306339859962463\n",
            "Epoch: 21, Loss: 0.5204253196716309\n",
            "Epoch: 22, Loss: 0.5101723670959473\n",
            "Epoch: 23, Loss: 0.49998950958251953\n",
            "Epoch: 24, Loss: 0.4899018406867981\n",
            "Epoch: 25, Loss: 0.4799348711967468\n",
            "Epoch: 26, Loss: 0.47012895345687866\n",
            "Epoch: 27, Loss: 0.4605054557323456\n",
            "Epoch: 28, Loss: 0.4510587453842163\n",
            "Epoch: 29, Loss: 0.44179993867874146\n",
            "Epoch: 30, Loss: 0.4327675700187683\n",
            "Epoch: 31, Loss: 0.42393210530281067\n",
            "Epoch: 32, Loss: 0.4153037965297699\n",
            "Epoch: 33, Loss: 0.40686899423599243\n",
            "Epoch: 34, Loss: 0.39863380789756775\n",
            "Epoch: 35, Loss: 0.3905993103981018\n",
            "Epoch: 36, Loss: 0.3827590346336365\n",
            "Epoch: 37, Loss: 0.37511467933654785\n",
            "Epoch: 38, Loss: 0.3676479458808899\n",
            "Epoch: 39, Loss: 0.3603440523147583\n",
            "Epoch: 40, Loss: 0.3532092273235321\n",
            "Epoch: 41, Loss: 0.3462361991405487\n",
            "Epoch: 42, Loss: 0.33941084146499634\n",
            "Epoch: 43, Loss: 0.33273497223854065\n",
            "Epoch: 44, Loss: 0.3261905610561371\n",
            "Epoch: 45, Loss: 0.3197666108608246\n",
            "Epoch: 46, Loss: 0.3134740889072418\n",
            "Epoch: 47, Loss: 0.30730709433555603\n",
            "Epoch: 48, Loss: 0.30126628279685974\n",
            "Epoch: 49, Loss: 0.2953450083732605\n",
            "Epoch: 50, Loss: 0.28953927755355835\n"
          ]
        }
      ]
    },
    {
      "cell_type": "code",
      "source": [
        "# model evaluation\n",
        "with torch.no_grad():\n",
        "  y_pred = model.forward(X_test_tensor)\n",
        "  y_pred = (y_pred > 0.5).float()\n",
        "  accuracy = (y_pred == y_test_tensor).float().mean()\n",
        "  print(f'Accuracy: {accuracy.item()}')\n"
      ],
      "metadata": {
        "colab": {
          "base_uri": "https://localhost:8080/"
        },
        "id": "NbUZTjcx10Ve",
        "outputId": "88f05a16-a6f5-4ce2-d856-5b97bb715bcd"
      },
      "execution_count": 132,
      "outputs": [
        {
          "output_type": "stream",
          "name": "stdout",
          "text": [
            "Accuracy: 0.5366266369819641\n"
          ]
        }
      ]
    },
    {
      "cell_type": "code",
      "source": [
        "for param in model.parameters():\n",
        "  print(param)"
      ],
      "metadata": {
        "colab": {
          "base_uri": "https://localhost:8080/"
        },
        "id": "8gqTPdAT13P2",
        "outputId": "e75a873a-5f52-41bb-8936-a8cffd319ab9"
      },
      "execution_count": 134,
      "outputs": [
        {
          "output_type": "stream",
          "name": "stdout",
          "text": [
            "Parameter containing:\n",
            "tensor([[-0.0554, -0.0418, -0.0522,  0.0901, -0.1408, -0.0510, -0.0452,  0.0546,\n",
            "          0.0350, -0.0591, -0.1115,  0.0326,  0.1543, -0.0842,  0.0153, -0.0407,\n",
            "          0.0216,  0.1081, -0.0718, -0.1088, -0.0581,  0.0895,  0.1080, -0.0490,\n",
            "          0.0762,  0.0461,  0.0836, -0.0914, -0.0051,  0.1305],\n",
            "        [-0.0473,  0.0114,  0.2209, -0.0314,  0.1548, -0.0138,  0.2305, -0.0034,\n",
            "         -0.0511, -0.1337,  0.0177, -0.0756,  0.2156, -0.0308,  0.0887, -0.0227,\n",
            "         -0.0974,  0.0666,  0.0401,  0.0623, -0.0936, -0.0205,  0.0332, -0.0814,\n",
            "          0.1059, -0.1066,  0.0096,  0.0466,  0.0143, -0.0161],\n",
            "        [-0.1320,  0.1666,  0.0771, -0.0794, -0.0392, -0.0720, -0.1240,  0.1453,\n",
            "         -0.0994,  0.0359, -0.0037,  0.0005,  0.0381, -0.0207,  0.0005, -0.1578,\n",
            "          0.1011, -0.1058,  0.0071, -0.0198,  0.1750,  0.1902,  0.2216,  0.1447,\n",
            "          0.2029, -0.0918,  0.1378, -0.0943,  0.1109,  0.1857],\n",
            "        [ 0.0343,  0.0577,  0.1285, -0.0368, -0.0422, -0.0149, -0.0102,  0.1302,\n",
            "         -0.0757,  0.1365,  0.1930,  0.1019, -0.0291,  0.1270,  0.0076,  0.0272,\n",
            "          0.0083,  0.1271, -0.0979, -0.1334,  0.2119,  0.2077,  0.1895,  0.1317,\n",
            "          0.1907,  0.1759,  0.0372,  0.1373, -0.1459,  0.0905],\n",
            "        [-0.1164,  0.0455,  0.0930,  0.0192,  0.1393, -0.1121,  0.0478,  0.1537,\n",
            "          0.1542, -0.1450,  0.1445,  0.0503,  0.0865,  0.0062, -0.1237, -0.0641,\n",
            "          0.0406, -0.0225,  0.0616,  0.0650,  0.0719, -0.0849,  0.1960, -0.0816,\n",
            "          0.1623,  0.0956, -0.0696, -0.0335, -0.0027,  0.0414],\n",
            "        [-0.0586, -0.1010,  0.0632,  0.1147,  0.1163,  0.1481,  0.2064,  0.0019,\n",
            "         -0.0781,  0.0682,  0.1817,  0.0724,  0.0715,  0.0642,  0.0309, -0.0389,\n",
            "          0.1183, -0.0901, -0.0365, -0.1830,  0.0422,  0.0326,  0.0653,  0.1944,\n",
            "         -0.0375,  0.2152,  0.0737,  0.0661,  0.2105, -0.0998],\n",
            "        [ 0.0344,  0.2187,  0.2438,  0.0693,  0.1974, -0.0021,  0.1912,  0.1212,\n",
            "         -0.1161, -0.1227,  0.0441, -0.1633,  0.0923,  0.1624, -0.0216, -0.1107,\n",
            "         -0.1191, -0.0920,  0.0936,  0.1486,  0.1798, -0.0284,  0.1826,  0.2213,\n",
            "          0.1994,  0.0802, -0.0483,  0.1630,  0.1373,  0.1257],\n",
            "        [ 0.0248, -0.0111,  0.0170,  0.0024, -0.0977, -0.1614, -0.1732, -0.1467,\n",
            "          0.0822,  0.0627,  0.0883, -0.0613,  0.1722, -0.0689,  0.0551,  0.0232,\n",
            "          0.0180, -0.1483, -0.0640,  0.1532, -0.1044, -0.0189, -0.0956,  0.1354,\n",
            "          0.0257,  0.1008, -0.1514,  0.1111, -0.1254,  0.1692],\n",
            "        [ 0.0444,  0.2035,  0.0214,  0.1959, -0.0414,  0.2027, -0.0956, -0.0429,\n",
            "          0.1758, -0.1788, -0.0759,  0.0327, -0.0747,  0.1269,  0.1514, -0.1575,\n",
            "          0.1507,  0.0141, -0.1528,  0.0828,  0.1822,  0.1153, -0.0142,  0.1704,\n",
            "          0.0896,  0.0380, -0.0711,  0.1028,  0.1545,  0.1388],\n",
            "        [-0.1492, -0.0361, -0.1231, -0.0475, -0.0662, -0.0279,  0.0855,  0.1199,\n",
            "         -0.0571, -0.0661, -0.0201,  0.1460, -0.0727,  0.0210, -0.1355,  0.0975,\n",
            "          0.0865,  0.1320, -0.0705,  0.0516,  0.1254,  0.1139, -0.0364, -0.0850,\n",
            "          0.0107,  0.1602,  0.0258,  0.1508,  0.0777, -0.0201],\n",
            "        [ 0.1571,  0.1042, -0.0911, -0.1996,  0.0487, -0.1177,  0.1232, -0.1308,\n",
            "          0.0772, -0.0395, -0.0476, -0.0064,  0.1143, -0.0341, -0.0150, -0.0744,\n",
            "         -0.0382, -0.1972, -0.0260, -0.0850, -0.1980, -0.0995, -0.1019,  0.1042,\n",
            "         -0.1215, -0.0316, -0.0663, -0.0374, -0.1348,  0.0730],\n",
            "        [ 0.0640, -0.0729, -0.1390,  0.2190,  0.1104,  0.0613, -0.1221, -0.0613,\n",
            "          0.0280,  0.1558, -0.1047,  0.0961,  0.0885, -0.1618,  0.0548, -0.0821,\n",
            "          0.0670, -0.0549,  0.1572, -0.1278,  0.0436,  0.1693, -0.0899, -0.0222,\n",
            "         -0.0710, -0.1358, -0.0861, -0.0285,  0.1492,  0.1418],\n",
            "        [ 0.1408, -0.0838, -0.0267,  0.1858,  0.0300, -0.0488,  0.1870, -0.0605,\n",
            "         -0.0423, -0.1769,  0.2076, -0.1626,  0.1051,  0.1697,  0.1475, -0.1004,\n",
            "         -0.0700, -0.0574, -0.0859,  0.0625,  0.0153,  0.1873,  0.1690,  0.1576,\n",
            "          0.0776,  0.1899,  0.1741,  0.2121,  0.1843,  0.1087],\n",
            "        [ 0.1026, -0.1471, -0.0329,  0.0406, -0.1364, -0.0465,  0.0724,  0.1173,\n",
            "         -0.1547,  0.1307,  0.0797,  0.0622,  0.1715, -0.1213, -0.0653, -0.1243,\n",
            "          0.0870, -0.0931,  0.1729,  0.1939, -0.0371,  0.1577, -0.1122, -0.1584,\n",
            "         -0.0673, -0.1712, -0.1601, -0.1785, -0.1382, -0.0881],\n",
            "        [ 0.1830, -0.0532, -0.0475, -0.1378,  0.1437, -0.0731,  0.1470, -0.0321,\n",
            "          0.0216, -0.1733,  0.0249, -0.1726,  0.0596,  0.1833,  0.0989,  0.1420,\n",
            "         -0.1063,  0.0799,  0.1012, -0.0780,  0.2062,  0.1339,  0.1023, -0.0957,\n",
            "         -0.0152,  0.0083,  0.0248,  0.1223,  0.1975,  0.1658]],\n",
            "       requires_grad=True)\n",
            "Parameter containing:\n",
            "tensor([-0.0990,  0.0599, -0.0190,  0.0374,  0.0286,  0.1225,  0.2053,  0.1125,\n",
            "        -0.0139, -0.1488, -0.1301, -0.1916,  0.1282,  0.1169,  0.0469],\n",
            "       requires_grad=True)\n",
            "Parameter containing:\n",
            "tensor([[-0.1253,  0.1411,  0.0447,  0.0386, -0.1428,  0.3185,  0.3458,  0.0299,\n",
            "          0.0659,  0.0980,  0.2176,  0.1424,  0.3082, -0.1530,  0.2951],\n",
            "        [ 0.0223, -0.0748,  0.2252,  0.3316, -0.1697,  0.1484,  0.2978,  0.1660,\n",
            "          0.0495, -0.0560, -0.0519,  0.0514, -0.0976,  0.0130,  0.1190],\n",
            "        [ 0.1555,  0.1390,  0.0612,  0.3104, -0.1118, -0.1251,  0.1990, -0.0020,\n",
            "          0.0697,  0.1979, -0.2186,  0.0659,  0.2078,  0.0951, -0.1843],\n",
            "        [-0.1864,  0.2476, -0.1360, -0.1440, -0.0168, -0.2325,  0.1649, -0.1618,\n",
            "         -0.0243, -0.1764,  0.0843, -0.1550, -0.1593, -0.2187,  0.1849],\n",
            "        [ 0.0891,  0.2333,  0.0609,  0.0551,  0.2924,  0.1572,  0.1131, -0.0979,\n",
            "          0.3179,  0.1429, -0.1390, -0.1027,  0.3421, -0.1780,  0.1424],\n",
            "        [-0.0800, -0.0476,  0.0612,  0.0717,  0.0308, -0.0599, -0.2731,  0.2172,\n",
            "          0.0271,  0.0281,  0.2943,  0.1445, -0.0752,  0.1974, -0.0440],\n",
            "        [-0.0172,  0.1745,  0.0716,  0.3068,  0.2812,  0.1793,  0.1854, -0.1810,\n",
            "          0.1465, -0.0319,  0.1594,  0.1760, -0.0224, -0.0206,  0.1089],\n",
            "        [ 0.2404,  0.2159,  0.1465, -0.2403, -0.1062,  0.1063, -0.1103,  0.0807,\n",
            "          0.0761, -0.2115, -0.2328,  0.1206, -0.1359, -0.1835, -0.1100],\n",
            "        [-0.2141,  0.2275, -0.0534,  0.1952,  0.0788, -0.1820, -0.2073,  0.0216,\n",
            "         -0.1494, -0.0766,  0.1071, -0.0706,  0.0970, -0.2120,  0.0062],\n",
            "        [ 0.1144, -0.1399,  0.1568,  0.0063,  0.0374,  0.0367,  0.1742,  0.0699,\n",
            "         -0.0173, -0.0860, -0.0643, -0.1122,  0.2257,  0.1386, -0.0031]],\n",
            "       requires_grad=True)\n",
            "Parameter containing:\n",
            "tensor([-0.0801,  0.0563, -0.0299,  0.1217,  0.0421,  0.4202, -0.0788, -0.0294,\n",
            "        -0.2346, -0.1465], requires_grad=True)\n",
            "Parameter containing:\n",
            "tensor([[ 0.4852,  0.2578,  0.2631, -0.1938,  0.5021, -0.4992,  0.4393,  0.0404,\n",
            "          0.0517,  0.3591]], requires_grad=True)\n",
            "Parameter containing:\n",
            "tensor([-0.6961], requires_grad=True)\n"
          ]
        }
      ]
    },
    {
      "cell_type": "code",
      "source": [],
      "metadata": {
        "id": "8cByCaMp2545"
      },
      "execution_count": null,
      "outputs": []
    }
  ]
}